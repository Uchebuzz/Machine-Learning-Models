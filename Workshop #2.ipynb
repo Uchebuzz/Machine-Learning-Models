{
 "cells": [
  {
   "cell_type": "markdown",
   "id": "36e59240-d12a-4f20-987c-38cffd3a6240",
   "metadata": {},
   "source": [
    "# --------------------------------------- Workshop #2 -------------------------------------"
   ]
  },
  {
   "cell_type": "markdown",
   "id": "3f919478-4870-4c6a-9097-859bd24060af",
   "metadata": {},
   "source": [
    "\n",
    "* This workshop includes marked tasks that comprise 16% of your final mark in this module. \n",
    "\n",
    "* To complete the tasks, you need to apply data preprocessing methods discussed in Lecture 2. However, you may need to research to find solutions to some tasks. \n",
    "\n",
    "* You can duplicate the code and report cells if you need more than one code/report cell for your solution"
   ]
  },
  {
   "cell_type": "markdown",
   "id": "57dda1cf-634c-4db2-ba37-44e8b2769e2b",
   "metadata": {},
   "source": [
    "# Tasks"
   ]
  },
  {
   "cell_type": "markdown",
   "id": "3c730224-dbd9-4fc3-b561-ffb6eb697437",
   "metadata": {},
   "source": [
    "## TASK 2.1: Download the adult dataset from Canvas, import it into Jupyter Notebook, and complete the following steps (Completing the report cell is required):\n",
    "\n",
    "### a. Write a code to show how many Null values each column contains. Report the columns that contain Null values in the report cell (Hint: use the isna().sum() method to show the number of the Null values) (NOTE: Nan values are also considered as Null values) (1%). \n",
    "\n",
    "### b. Change the display setting and print the first 100 rows. Find columns that contain wrong data and report them in the report cell (1%). \n",
    "\n",
    "\n",
    "### c. We cannot inspect the entire data by eyes for columns containing wrong data. Explain in the report cell what method we could use to find all columns which contain wrong data (2%)\n"
   ]
  },
  {
   "cell_type": "code",
   "execution_count": 2,
   "id": "2bd771c9",
   "metadata": {},
   "outputs": [],
   "source": [
    "############# WRITE YOUR CODE IN THIS CELL (IF APPLICABLE)####################\n",
    "#a\n",
    "\n",
    "import numpy as np\n",
    "import pandas as pd\n",
    "\n",
    "adults = pd.read_csv('C:/Users/Uche Buzz/Desktop/School stuff/Data Mining and Infomatics/Dataset/adult.csv')\n"
   ]
  },
  {
   "cell_type": "code",
   "execution_count": null,
   "id": "1966ba53",
   "metadata": {},
   "outputs": [],
   "source": []
  },
  {
   "cell_type": "code",
   "execution_count": null,
   "id": "42124e73",
   "metadata": {},
   "outputs": [],
   "source": []
  },
  {
   "cell_type": "markdown",
   "id": "0308ca47",
   "metadata": {},
   "source": [
    "# Task 2.1a\n",
    "## Print the sum of all the null values in each column"
   ]
  },
  {
   "cell_type": "code",
   "execution_count": 3,
   "id": "38aef85a",
   "metadata": {},
   "outputs": [
    {
     "data": {
      "text/plain": [
       "age                 0\n",
       "workclass         963\n",
       "fnlwgt              0\n",
       "education           0\n",
       "education-num       0\n",
       "marital-status      0\n",
       "occupation        966\n",
       "relationship        0\n",
       "race                0\n",
       "sex                 0\n",
       "capital-gain        0\n",
       "capital-loss        0\n",
       "hours-per-week      0\n",
       "native-country    274\n",
       "income              0\n",
       "dtype: int64"
      ]
     },
     "execution_count": 3,
     "metadata": {},
     "output_type": "execute_result"
    }
   ],
   "source": [
    "adults.isna().sum()"
   ]
  },
  {
   "cell_type": "code",
   "execution_count": 4,
   "id": "43111bba",
   "metadata": {},
   "outputs": [
    {
     "data": {
      "text/plain": [
       "<bound method Series.count of age                 0\n",
       "workclass         963\n",
       "fnlwgt              0\n",
       "education           0\n",
       "education-num       0\n",
       "marital-status      0\n",
       "occupation        966\n",
       "relationship        0\n",
       "race                0\n",
       "sex                 0\n",
       "capital-gain        0\n",
       "capital-loss        0\n",
       "hours-per-week      0\n",
       "native-country    274\n",
       "income              0\n",
       "dtype: int64>"
      ]
     },
     "execution_count": 4,
     "metadata": {},
     "output_type": "execute_result"
    }
   ],
   "source": [
    "adults.isna().sum().count"
   ]
  },
  {
   "cell_type": "code",
   "execution_count": null,
   "id": "2ee8fb5b",
   "metadata": {},
   "outputs": [],
   "source": []
  },
  {
   "cell_type": "markdown",
   "id": "0e45c4e2",
   "metadata": {},
   "source": [
    "# 2.1b\n",
    "## Change the display to show 100 rows and highlight columns with false values"
   ]
  },
  {
   "cell_type": "code",
   "execution_count": 5,
   "id": "9c47120b",
   "metadata": {},
   "outputs": [
    {
     "data": {
      "text/html": [
       "<div>\n",
       "<style scoped>\n",
       "    .dataframe tbody tr th:only-of-type {\n",
       "        vertical-align: middle;\n",
       "    }\n",
       "\n",
       "    .dataframe tbody tr th {\n",
       "        vertical-align: top;\n",
       "    }\n",
       "\n",
       "    .dataframe thead th {\n",
       "        text-align: right;\n",
       "    }\n",
       "</style>\n",
       "<table border=\"1\" class=\"dataframe\">\n",
       "  <thead>\n",
       "    <tr style=\"text-align: right;\">\n",
       "      <th></th>\n",
       "      <th>age</th>\n",
       "      <th>workclass</th>\n",
       "      <th>fnlwgt</th>\n",
       "      <th>education</th>\n",
       "      <th>education-num</th>\n",
       "      <th>marital-status</th>\n",
       "      <th>occupation</th>\n",
       "      <th>relationship</th>\n",
       "      <th>race</th>\n",
       "      <th>sex</th>\n",
       "      <th>capital-gain</th>\n",
       "      <th>capital-loss</th>\n",
       "      <th>hours-per-week</th>\n",
       "      <th>native-country</th>\n",
       "      <th>income</th>\n",
       "    </tr>\n",
       "  </thead>\n",
       "  <tbody>\n",
       "    <tr>\n",
       "      <th>0</th>\n",
       "      <td>39</td>\n",
       "      <td>State-gov</td>\n",
       "      <td>77516</td>\n",
       "      <td>Bachelors</td>\n",
       "      <td>13</td>\n",
       "      <td>Never-married</td>\n",
       "      <td>Adm-clerical</td>\n",
       "      <td>Not-in-family</td>\n",
       "      <td>White</td>\n",
       "      <td>Male</td>\n",
       "      <td>2174</td>\n",
       "      <td>0</td>\n",
       "      <td>40</td>\n",
       "      <td>United-States</td>\n",
       "      <td>&lt;=50K</td>\n",
       "    </tr>\n",
       "    <tr>\n",
       "      <th>1</th>\n",
       "      <td>50</td>\n",
       "      <td>Self-emp-not-inc</td>\n",
       "      <td>83311</td>\n",
       "      <td>Bachelors</td>\n",
       "      <td>13</td>\n",
       "      <td>Married-civ-spouse</td>\n",
       "      <td>Exec-managerial</td>\n",
       "      <td>Husband</td>\n",
       "      <td>White</td>\n",
       "      <td>Male</td>\n",
       "      <td>0</td>\n",
       "      <td>0</td>\n",
       "      <td>13</td>\n",
       "      <td>United-States</td>\n",
       "      <td>&lt;=50K</td>\n",
       "    </tr>\n",
       "    <tr>\n",
       "      <th>2</th>\n",
       "      <td>38</td>\n",
       "      <td>Private</td>\n",
       "      <td>215646</td>\n",
       "      <td>HS-grad</td>\n",
       "      <td>9</td>\n",
       "      <td>Divorced</td>\n",
       "      <td>Handlers-cleaners</td>\n",
       "      <td>Not-in-family</td>\n",
       "      <td>White</td>\n",
       "      <td>Male</td>\n",
       "      <td>0</td>\n",
       "      <td>0</td>\n",
       "      <td>40</td>\n",
       "      <td>United-States</td>\n",
       "      <td>&lt;=50K</td>\n",
       "    </tr>\n",
       "    <tr>\n",
       "      <th>3</th>\n",
       "      <td>53</td>\n",
       "      <td>Private</td>\n",
       "      <td>234721</td>\n",
       "      <td>11th</td>\n",
       "      <td>7</td>\n",
       "      <td>Married-civ-spouse</td>\n",
       "      <td>Handlers-cleaners</td>\n",
       "      <td>Husband</td>\n",
       "      <td>Black</td>\n",
       "      <td>Male</td>\n",
       "      <td>0</td>\n",
       "      <td>0</td>\n",
       "      <td>40</td>\n",
       "      <td>United-States</td>\n",
       "      <td>&lt;=50K</td>\n",
       "    </tr>\n",
       "    <tr>\n",
       "      <th>4</th>\n",
       "      <td>28</td>\n",
       "      <td>Private</td>\n",
       "      <td>338409</td>\n",
       "      <td>Bachelors</td>\n",
       "      <td>13</td>\n",
       "      <td>Married-civ-spouse</td>\n",
       "      <td>Prof-specialty</td>\n",
       "      <td>Wife</td>\n",
       "      <td>Black</td>\n",
       "      <td>Female</td>\n",
       "      <td>0</td>\n",
       "      <td>0</td>\n",
       "      <td>40</td>\n",
       "      <td>Cuba</td>\n",
       "      <td>&lt;=50K</td>\n",
       "    </tr>\n",
       "    <tr>\n",
       "      <th>...</th>\n",
       "      <td>...</td>\n",
       "      <td>...</td>\n",
       "      <td>...</td>\n",
       "      <td>...</td>\n",
       "      <td>...</td>\n",
       "      <td>...</td>\n",
       "      <td>...</td>\n",
       "      <td>...</td>\n",
       "      <td>...</td>\n",
       "      <td>...</td>\n",
       "      <td>...</td>\n",
       "      <td>...</td>\n",
       "      <td>...</td>\n",
       "      <td>...</td>\n",
       "      <td>...</td>\n",
       "    </tr>\n",
       "    <tr>\n",
       "      <th>195</th>\n",
       "      <td>23</td>\n",
       "      <td>Private</td>\n",
       "      <td>197387</td>\n",
       "      <td>5th-6th</td>\n",
       "      <td>3</td>\n",
       "      <td>Married-civ-spouse</td>\n",
       "      <td>Transport-moving</td>\n",
       "      <td>Other-relative</td>\n",
       "      <td>White</td>\n",
       "      <td>Male</td>\n",
       "      <td>0</td>\n",
       "      <td>0</td>\n",
       "      <td>40</td>\n",
       "      <td>Mexico</td>\n",
       "      <td>&lt;=50K</td>\n",
       "    </tr>\n",
       "    <tr>\n",
       "      <th>196</th>\n",
       "      <td>36</td>\n",
       "      <td>Private</td>\n",
       "      <td>99374</td>\n",
       "      <td>Some-college</td>\n",
       "      <td>10</td>\n",
       "      <td>Divorced</td>\n",
       "      <td>Craft-repair</td>\n",
       "      <td>Not-in-family</td>\n",
       "      <td>White</td>\n",
       "      <td>Male</td>\n",
       "      <td>0</td>\n",
       "      <td>0</td>\n",
       "      <td>40</td>\n",
       "      <td>United-States</td>\n",
       "      <td>&lt;=50K</td>\n",
       "    </tr>\n",
       "    <tr>\n",
       "      <th>197</th>\n",
       "      <td>40</td>\n",
       "      <td>Federal-gov</td>\n",
       "      <td>56795</td>\n",
       "      <td>Masters</td>\n",
       "      <td>14</td>\n",
       "      <td>Never-married</td>\n",
       "      <td>Exec-managerial</td>\n",
       "      <td>Not-in-family</td>\n",
       "      <td>White</td>\n",
       "      <td>Female</td>\n",
       "      <td>14084</td>\n",
       "      <td>0</td>\n",
       "      <td>55</td>\n",
       "      <td>United-States</td>\n",
       "      <td>&gt;50K</td>\n",
       "    </tr>\n",
       "    <tr>\n",
       "      <th>198</th>\n",
       "      <td>35</td>\n",
       "      <td>Private</td>\n",
       "      <td>138992</td>\n",
       "      <td>Masters</td>\n",
       "      <td>14</td>\n",
       "      <td>Married-civ-spouse</td>\n",
       "      <td>Prof-specialty</td>\n",
       "      <td>Other-relative</td>\n",
       "      <td>White</td>\n",
       "      <td>Male</td>\n",
       "      <td>7298</td>\n",
       "      <td>0</td>\n",
       "      <td>40</td>\n",
       "      <td>United-States</td>\n",
       "      <td>&gt;50K</td>\n",
       "    </tr>\n",
       "    <tr>\n",
       "      <th>199</th>\n",
       "      <td>24</td>\n",
       "      <td>Self-emp-not-inc</td>\n",
       "      <td>32921</td>\n",
       "      <td>HS-grad</td>\n",
       "      <td>9</td>\n",
       "      <td>Never-married</td>\n",
       "      <td>Sales</td>\n",
       "      <td>Not-in-family</td>\n",
       "      <td>White</td>\n",
       "      <td>Male</td>\n",
       "      <td>0</td>\n",
       "      <td>0</td>\n",
       "      <td>40</td>\n",
       "      <td>United-States</td>\n",
       "      <td>&lt;=50K</td>\n",
       "    </tr>\n",
       "  </tbody>\n",
       "</table>\n",
       "<p>200 rows × 15 columns</p>\n",
       "</div>"
      ],
      "text/plain": [
       "     age         workclass  fnlwgt     education  education-num  \\\n",
       "0     39         State-gov   77516     Bachelors             13   \n",
       "1     50  Self-emp-not-inc   83311     Bachelors             13   \n",
       "2     38           Private  215646       HS-grad              9   \n",
       "3     53           Private  234721          11th              7   \n",
       "4     28           Private  338409     Bachelors             13   \n",
       "..   ...               ...     ...           ...            ...   \n",
       "195   23           Private  197387       5th-6th              3   \n",
       "196   36           Private   99374  Some-college             10   \n",
       "197   40       Federal-gov   56795       Masters             14   \n",
       "198   35           Private  138992       Masters             14   \n",
       "199   24  Self-emp-not-inc   32921       HS-grad              9   \n",
       "\n",
       "         marital-status         occupation    relationship   race     sex  \\\n",
       "0         Never-married       Adm-clerical   Not-in-family  White    Male   \n",
       "1    Married-civ-spouse    Exec-managerial         Husband  White    Male   \n",
       "2              Divorced  Handlers-cleaners   Not-in-family  White    Male   \n",
       "3    Married-civ-spouse  Handlers-cleaners         Husband  Black    Male   \n",
       "4    Married-civ-spouse     Prof-specialty            Wife  Black  Female   \n",
       "..                  ...                ...             ...    ...     ...   \n",
       "195  Married-civ-spouse   Transport-moving  Other-relative  White    Male   \n",
       "196            Divorced       Craft-repair   Not-in-family  White    Male   \n",
       "197       Never-married    Exec-managerial   Not-in-family  White  Female   \n",
       "198  Married-civ-spouse     Prof-specialty  Other-relative  White    Male   \n",
       "199       Never-married              Sales   Not-in-family  White    Male   \n",
       "\n",
       "     capital-gain  capital-loss  hours-per-week native-country income  \n",
       "0            2174             0              40  United-States  <=50K  \n",
       "1               0             0              13  United-States  <=50K  \n",
       "2               0             0              40  United-States  <=50K  \n",
       "3               0             0              40  United-States  <=50K  \n",
       "4               0             0              40           Cuba  <=50K  \n",
       "..            ...           ...             ...            ...    ...  \n",
       "195             0             0              40         Mexico  <=50K  \n",
       "196             0             0              40  United-States  <=50K  \n",
       "197         14084             0              55  United-States   >50K  \n",
       "198          7298             0              40  United-States   >50K  \n",
       "199             0             0              40  United-States  <=50K  \n",
       "\n",
       "[200 rows x 15 columns]"
      ]
     },
     "execution_count": 5,
     "metadata": {},
     "output_type": "execute_result"
    }
   ],
   "source": [
    "#b. Change the display\n",
    "adults.head(200)"
   ]
  },
  {
   "cell_type": "code",
   "execution_count": null,
   "id": "f44d8d8d",
   "metadata": {},
   "outputs": [],
   "source": []
  },
  {
   "cell_type": "markdown",
   "id": "822b6999",
   "metadata": {},
   "source": [
    "## Wrong data columns"
   ]
  },
  {
   "cell_type": "code",
   "execution_count": null,
   "id": "2e4e5810",
   "metadata": {},
   "outputs": [],
   "source": []
  },
  {
   "cell_type": "markdown",
   "id": "7b47066f",
   "metadata": {},
   "source": [
    "# 2.1c\n",
    "## How do we change columns we have not seen"
   ]
  },
  {
   "cell_type": "raw",
   "id": "d3de738c-b803-414b-8616-8c9d48859c86",
   "metadata": {},
   "source": [
    "############# WRITE YOUR REPORT IN THIS CELL (IF APPLICABLE)####################\n",
    "\n",
    "Well, because we cannot view the entire dataset, \n",
    "    - we can easily pick an error and then replace null values with mean values of that column (This is for numerical values)\n",
    "    - Replace with a correct values\n",
    "    - Drop the entire column if it will hinder our analysis"
   ]
  },
  {
   "cell_type": "markdown",
   "id": "6da3be0b-b6d8-4edf-b859-f53490342e18",
   "metadata": {},
   "source": [
    "## TASK 2.2: Complete the following tasks (Completing the report cell is required):\n",
    "\n",
    "### a. Determine whether the columns which contain Null values are numerical, nominal, or ordinal variables and report it in the report cell (1%).\n",
    "\n",
    "### b. Delete all rows which contain Null values (1%). Then print the number of Null values of all columns using the isna().sum() method. \n",
    "\n",
    "### c. Import the dataset again. Find the mode of the categorical (i.e. nominal or ordinal) columns which contain Null values and use it to fill their Null values (2%)\n",
    "\n"
   ]
  },
  {
   "cell_type": "markdown",
   "id": "0120186e",
   "metadata": {},
   "source": [
    "# 2.2a\n",
    "## Determine data type of the null variables"
   ]
  },
  {
   "cell_type": "code",
   "execution_count": 25,
   "id": "be9003c8",
   "metadata": {},
   "outputs": [
    {
     "data": {
      "text/plain": [
       "dtype('int64')"
      ]
     },
     "execution_count": 25,
     "metadata": {},
     "output_type": "execute_result"
    }
   ],
   "source": [
    "\n",
    "############### WRITE YOUR CODE IN THIS CELL (IF APPLICABLE)####################\n",
    "\n",
    "\n",
    "adults.isna().sum().dtype\n",
    "#().dtype is a function used to determine"
   ]
  },
  {
   "cell_type": "code",
   "execution_count": null,
   "metadata": {},
   "outputs": [],
   "source": []
  },
  {
   "cell_type": "markdown",
   "id": "7b6ba15d",
   "metadata": {},
   "source": [
    "# 2.2b\n",
    "## Delete rows containing null values"
   ]
  },
  {
   "cell_type": "code",
   "execution_count": 7,
   "id": "72503a80",
   "metadata": {},
   "outputs": [
    {
     "data": {
      "text/plain": [
       "age                 0\n",
       "workclass         963\n",
       "fnlwgt              0\n",
       "education           0\n",
       "education-num       0\n",
       "marital-status      0\n",
       "occupation        966\n",
       "relationship        0\n",
       "race                0\n",
       "sex                 0\n",
       "capital-gain        0\n",
       "capital-loss        0\n",
       "hours-per-week      0\n",
       "native-country    274\n",
       "income              0\n",
       "dtype: int64"
      ]
     },
     "execution_count": 7,
     "metadata": {},
     "output_type": "execute_result"
    }
   ],
   "source": [
    "#View the ones with null values\n",
    "\n",
    "adults.isna().sum()"
   ]
  },
  {
   "cell_type": "code",
   "execution_count": 8,
   "id": "2176db1d",
   "metadata": {},
   "outputs": [],
   "source": [
    "#drop the columns with null values\n",
    "adults.drop(['workclass', 'native-country', 'occupation'], axis=1, inplace=True)"
   ]
  },
  {
   "cell_type": "code",
   "execution_count": 9,
   "id": "5c10f51b",
   "metadata": {},
   "outputs": [
    {
     "data": {
      "text/plain": [
       "age               0\n",
       "fnlwgt            0\n",
       "education         0\n",
       "education-num     0\n",
       "marital-status    0\n",
       "relationship      0\n",
       "race              0\n",
       "sex               0\n",
       "capital-gain      0\n",
       "capital-loss      0\n",
       "hours-per-week    0\n",
       "income            0\n",
       "dtype: int64"
      ]
     },
     "execution_count": 9,
     "metadata": {},
     "output_type": "execute_result"
    }
   ],
   "source": [
    "adults.isna().sum()"
   ]
  },
  {
   "cell_type": "code",
   "execution_count": null,
   "id": "5e1fa1bb",
   "metadata": {},
   "outputs": [],
   "source": []
  },
  {
   "cell_type": "markdown",
   "id": "cba8b0d3",
   "metadata": {},
   "source": [
    "# 2.2 c\n",
    "## Find the mode of the categorical columns"
   ]
  },
  {
   "cell_type": "code",
   "execution_count": 10,
   "id": "5dae00e1",
   "metadata": {},
   "outputs": [],
   "source": [
    "#Import dataset again\n",
    "data2 = pd.read_csv('C:/Users/Uche Buzz/Desktop/School stuff/Data Mining and Infomatics/Dataset/adult.csv')"
   ]
  },
  {
   "cell_type": "code",
   "execution_count": 11,
   "id": "aad12c25",
   "metadata": {},
   "outputs": [
    {
     "data": {
      "text/plain": [
       "age                 0\n",
       "workclass         963\n",
       "fnlwgt              0\n",
       "education           0\n",
       "education-num       0\n",
       "marital-status      0\n",
       "occupation        966\n",
       "relationship        0\n",
       "race                0\n",
       "sex                 0\n",
       "capital-gain        0\n",
       "capital-loss        0\n",
       "hours-per-week      0\n",
       "native-country    274\n",
       "income              0\n",
       "dtype: int64"
      ]
     },
     "execution_count": 11,
     "metadata": {},
     "output_type": "execute_result"
    }
   ],
   "source": [
    "#check null values\n",
    "data2.isnull().sum()"
   ]
  },
  {
   "cell_type": "code",
   "execution_count": 12,
   "id": "41e64a64",
   "metadata": {},
   "outputs": [],
   "source": [
    "#find the mode of these\n",
    "mode_workclass = data2['workclass'].mode()[0]\n",
    "mode_occupation = data2['occupation'].mode()[0]\n",
    "mode_native_country = data2['native-country'].mode()[0]"
   ]
  },
  {
   "cell_type": "code",
   "execution_count": 13,
   "id": "1e515653",
   "metadata": {},
   "outputs": [
    {
     "name": "stderr",
     "output_type": "stream",
     "text": [
      "C:\\Users\\Uche Buzz\\AppData\\Local\\Temp\\ipykernel_18492\\2860103040.py:2: FutureWarning: A value is trying to be set on a copy of a DataFrame or Series through chained assignment using an inplace method.\n",
      "The behavior will change in pandas 3.0. This inplace method will never work because the intermediate object on which we are setting values always behaves as a copy.\n",
      "\n",
      "For example, when doing 'df[col].method(value, inplace=True)', try using 'df.method({col: value}, inplace=True)' or df[col] = df[col].method(value) instead, to perform the operation inplace on the original object.\n",
      "\n",
      "\n",
      "  data2['workclass'].fillna(mode_workclass, inplace=True)\n",
      "C:\\Users\\Uche Buzz\\AppData\\Local\\Temp\\ipykernel_18492\\2860103040.py:3: FutureWarning: A value is trying to be set on a copy of a DataFrame or Series through chained assignment using an inplace method.\n",
      "The behavior will change in pandas 3.0. This inplace method will never work because the intermediate object on which we are setting values always behaves as a copy.\n",
      "\n",
      "For example, when doing 'df[col].method(value, inplace=True)', try using 'df.method({col: value}, inplace=True)' or df[col] = df[col].method(value) instead, to perform the operation inplace on the original object.\n",
      "\n",
      "\n",
      "  data2['occupation'].fillna(mode_occupation, inplace=True)\n",
      "C:\\Users\\Uche Buzz\\AppData\\Local\\Temp\\ipykernel_18492\\2860103040.py:4: FutureWarning: A value is trying to be set on a copy of a DataFrame or Series through chained assignment using an inplace method.\n",
      "The behavior will change in pandas 3.0. This inplace method will never work because the intermediate object on which we are setting values always behaves as a copy.\n",
      "\n",
      "For example, when doing 'df[col].method(value, inplace=True)', try using 'df.method({col: value}, inplace=True)' or df[col] = df[col].method(value) instead, to perform the operation inplace on the original object.\n",
      "\n",
      "\n",
      "  data2['native-country'].fillna(mode_native_country, inplace=True)\n"
     ]
    }
   ],
   "source": [
    "# Replace null values with the mode\n",
    "data2['workclass'].fillna(mode_workclass, inplace=True)\n",
    "data2['occupation'].fillna(mode_occupation, inplace=True)\n",
    "data2['native-country'].fillna(mode_native_country, inplace=True)\n"
   ]
  },
  {
   "cell_type": "code",
   "execution_count": 14,
   "id": "859428f7",
   "metadata": {},
   "outputs": [
    {
     "name": "stdout",
     "output_type": "stream",
     "text": [
      "age               0\n",
      "workclass         0\n",
      "fnlwgt            0\n",
      "education         0\n",
      "education-num     0\n",
      "marital-status    0\n",
      "occupation        0\n",
      "relationship      0\n",
      "race              0\n",
      "sex               0\n",
      "capital-gain      0\n",
      "capital-loss      0\n",
      "hours-per-week    0\n",
      "native-country    0\n",
      "income            0\n",
      "dtype: int64\n"
     ]
    }
   ],
   "source": [
    "# Verify if all missing values are filled\n",
    "print(data2.isnull().sum())"
   ]
  },
  {
   "cell_type": "raw",
   "id": "78513aa9-1b10-45ae-aa7b-ee0b90c0a5d5",
   "metadata": {},
   "source": [
    "############# WRITE YOUR REPORT IN THIS CELL (IF APPLICABLE)####################\n",
    "\n",
    "\n"
   ]
  },
  {
   "cell_type": "markdown",
   "id": "9366d57c-099b-466a-88e4-ff0be8b32d7d",
   "metadata": {},
   "source": [
    "## TASK 2.3. Select one of the columns which contains wrong data. Write a code to fill the wrong cells with an appropriate value. You have the freedom to determine what value you want to use to fill the wrong cells (2%). "
   ]
  },
  {
   "cell_type": "markdown",
   "id": "2705546b",
   "metadata": {},
   "source": [
    "# 2.3\n",
    "## Fill the wrong cells with the right data"
   ]
  },
  {
   "cell_type": "code",
   "execution_count": 15,
   "id": "330f9940",
   "metadata": {},
   "outputs": [],
   "source": [
    "############# WRITE YOUR CODE IN THIS CELL (IF APPLICABLE)####################\n",
    "\n",
    "#import the dataset again\n",
    "data4 = pd.read_csv('C:/Users/Uche Buzz/Desktop/School stuff/Data Mining and Infomatics/Dataset/adult.csv')\n"
   ]
  },
  {
   "cell_type": "code",
   "execution_count": 16,
   "id": "6af4fb18",
   "metadata": {},
   "outputs": [
    {
     "data": {
      "text/html": [
       "<div>\n",
       "<style scoped>\n",
       "    .dataframe tbody tr th:only-of-type {\n",
       "        vertical-align: middle;\n",
       "    }\n",
       "\n",
       "    .dataframe tbody tr th {\n",
       "        vertical-align: top;\n",
       "    }\n",
       "\n",
       "    .dataframe thead th {\n",
       "        text-align: right;\n",
       "    }\n",
       "</style>\n",
       "<table border=\"1\" class=\"dataframe\">\n",
       "  <thead>\n",
       "    <tr style=\"text-align: right;\">\n",
       "      <th></th>\n",
       "      <th>age</th>\n",
       "      <th>workclass</th>\n",
       "      <th>fnlwgt</th>\n",
       "      <th>education</th>\n",
       "      <th>education-num</th>\n",
       "      <th>marital-status</th>\n",
       "      <th>occupation</th>\n",
       "      <th>relationship</th>\n",
       "      <th>race</th>\n",
       "      <th>sex</th>\n",
       "      <th>capital-gain</th>\n",
       "      <th>capital-loss</th>\n",
       "      <th>hours-per-week</th>\n",
       "      <th>native-country</th>\n",
       "      <th>income</th>\n",
       "    </tr>\n",
       "  </thead>\n",
       "  <tbody>\n",
       "    <tr>\n",
       "      <th>0</th>\n",
       "      <td>39</td>\n",
       "      <td>State-gov</td>\n",
       "      <td>77516</td>\n",
       "      <td>Bachelors</td>\n",
       "      <td>13</td>\n",
       "      <td>Never-married</td>\n",
       "      <td>Adm-clerical</td>\n",
       "      <td>Not-in-family</td>\n",
       "      <td>White</td>\n",
       "      <td>Male</td>\n",
       "      <td>2174</td>\n",
       "      <td>0</td>\n",
       "      <td>40</td>\n",
       "      <td>United-States</td>\n",
       "      <td>&lt;=50K</td>\n",
       "    </tr>\n",
       "    <tr>\n",
       "      <th>1</th>\n",
       "      <td>50</td>\n",
       "      <td>Self-emp-not-inc</td>\n",
       "      <td>83311</td>\n",
       "      <td>Bachelors</td>\n",
       "      <td>13</td>\n",
       "      <td>Married-civ-spouse</td>\n",
       "      <td>Exec-managerial</td>\n",
       "      <td>Husband</td>\n",
       "      <td>White</td>\n",
       "      <td>Male</td>\n",
       "      <td>0</td>\n",
       "      <td>0</td>\n",
       "      <td>13</td>\n",
       "      <td>United-States</td>\n",
       "      <td>&lt;=50K</td>\n",
       "    </tr>\n",
       "    <tr>\n",
       "      <th>2</th>\n",
       "      <td>38</td>\n",
       "      <td>Private</td>\n",
       "      <td>215646</td>\n",
       "      <td>HS-grad</td>\n",
       "      <td>9</td>\n",
       "      <td>Divorced</td>\n",
       "      <td>Handlers-cleaners</td>\n",
       "      <td>Not-in-family</td>\n",
       "      <td>White</td>\n",
       "      <td>Male</td>\n",
       "      <td>0</td>\n",
       "      <td>0</td>\n",
       "      <td>40</td>\n",
       "      <td>United-States</td>\n",
       "      <td>&lt;=50K</td>\n",
       "    </tr>\n",
       "    <tr>\n",
       "      <th>3</th>\n",
       "      <td>53</td>\n",
       "      <td>Private</td>\n",
       "      <td>234721</td>\n",
       "      <td>11th</td>\n",
       "      <td>7</td>\n",
       "      <td>Married-civ-spouse</td>\n",
       "      <td>Handlers-cleaners</td>\n",
       "      <td>Husband</td>\n",
       "      <td>Black</td>\n",
       "      <td>Male</td>\n",
       "      <td>0</td>\n",
       "      <td>0</td>\n",
       "      <td>40</td>\n",
       "      <td>United-States</td>\n",
       "      <td>&lt;=50K</td>\n",
       "    </tr>\n",
       "    <tr>\n",
       "      <th>4</th>\n",
       "      <td>28</td>\n",
       "      <td>Private</td>\n",
       "      <td>338409</td>\n",
       "      <td>Bachelors</td>\n",
       "      <td>13</td>\n",
       "      <td>Married-civ-spouse</td>\n",
       "      <td>Prof-specialty</td>\n",
       "      <td>Wife</td>\n",
       "      <td>Black</td>\n",
       "      <td>Female</td>\n",
       "      <td>0</td>\n",
       "      <td>0</td>\n",
       "      <td>40</td>\n",
       "      <td>Cuba</td>\n",
       "      <td>&lt;=50K</td>\n",
       "    </tr>\n",
       "  </tbody>\n",
       "</table>\n",
       "</div>"
      ],
      "text/plain": [
       "   age         workclass  fnlwgt  education  education-num  \\\n",
       "0   39         State-gov   77516  Bachelors             13   \n",
       "1   50  Self-emp-not-inc   83311  Bachelors             13   \n",
       "2   38           Private  215646    HS-grad              9   \n",
       "3   53           Private  234721       11th              7   \n",
       "4   28           Private  338409  Bachelors             13   \n",
       "\n",
       "       marital-status         occupation   relationship   race     sex  \\\n",
       "0       Never-married       Adm-clerical  Not-in-family  White    Male   \n",
       "1  Married-civ-spouse    Exec-managerial        Husband  White    Male   \n",
       "2            Divorced  Handlers-cleaners  Not-in-family  White    Male   \n",
       "3  Married-civ-spouse  Handlers-cleaners        Husband  Black    Male   \n",
       "4  Married-civ-spouse     Prof-specialty           Wife  Black  Female   \n",
       "\n",
       "   capital-gain  capital-loss  hours-per-week native-country income  \n",
       "0          2174             0              40  United-States  <=50K  \n",
       "1             0             0              13  United-States  <=50K  \n",
       "2             0             0              40  United-States  <=50K  \n",
       "3             0             0              40  United-States  <=50K  \n",
       "4             0             0              40           Cuba  <=50K  "
      ]
     },
     "execution_count": 16,
     "metadata": {},
     "output_type": "execute_result"
    }
   ],
   "source": [
    "#View the entire dataset to quick glance for wrong data\n",
    "data4.head()"
   ]
  },
  {
   "cell_type": "markdown",
   "id": "36a29a7c",
   "metadata": {},
   "source": [
    "## For this task, I choose to replace in **[marital-status] column -** *\"Married-civ-spouce\"* to *\"Married-to-civilian\"*"
   ]
  },
  {
   "cell_type": "code",
   "execution_count": 17,
   "id": "4ed61bf3",
   "metadata": {},
   "outputs": [
    {
     "name": "stderr",
     "output_type": "stream",
     "text": [
      "C:\\Users\\Uche Buzz\\AppData\\Local\\Temp\\ipykernel_18492\\2516893332.py:1: FutureWarning: A value is trying to be set on a copy of a DataFrame or Series through chained assignment using an inplace method.\n",
      "The behavior will change in pandas 3.0. This inplace method will never work because the intermediate object on which we are setting values always behaves as a copy.\n",
      "\n",
      "For example, when doing 'df[col].method(value, inplace=True)', try using 'df.method({col: value}, inplace=True)' or df[col] = df[col].method(value) instead, to perform the operation inplace on the original object.\n",
      "\n",
      "\n",
      "  data_replaced = data4['marital-status'].replace('Married-civ-spouse', 'Married-to-civilian', inplace=True)\n"
     ]
    }
   ],
   "source": [
    "#replace\n",
    "data_replaced = data4['marital-status'].replace('Married-civ-spouse', 'Married-to-civilian', inplace=True)"
   ]
  },
  {
   "cell_type": "code",
   "execution_count": 18,
   "id": "52bb33b5",
   "metadata": {},
   "outputs": [
    {
     "name": "stdout",
     "output_type": "stream",
     "text": [
      "marital-status\n",
      "Married-to-civilian      22379\n",
      "Never-married            16117\n",
      "Divorced                  6633\n",
      "Separated                 1530\n",
      "Widowed                   1518\n",
      "Married-spouse-absent      628\n",
      "Married-AF-spouse           37\n",
      "Name: count, dtype: int64\n"
     ]
    }
   ],
   "source": [
    "#print only marital status column to see the change\n",
    "print(data4['marital-status'].value_counts())"
   ]
  },
  {
   "cell_type": "code",
   "execution_count": null,
   "id": "57d9f345",
   "metadata": {},
   "outputs": [],
   "source": []
  },
  {
   "cell_type": "raw",
   "id": "ad2f14d7-31d5-4119-9959-364a36f6863c",
   "metadata": {},
   "source": [
    "############# WRITE YOUR REPORT IN THIS CELL (IF APPLICABLE)####################\n",
    "\n",
    "\n"
   ]
  },
  {
   "cell_type": "markdown",
   "id": "187d4c11-e11d-4bd7-bb2b-2b299be682ed",
   "metadata": {},
   "source": [
    "## TASK 2.4: Complete the following tasks: \n",
    "\n",
    "### a. Assume we want to predict the income column as the output. Use the correct method to encode this column (1%). \n",
    "\n",
    "### b. Select one ordinal column and encode it using the appropriate method (1%) . \n",
    "\n",
    "### c. Select one nominal column and encode it using the appropriate method (1%).\n",
    "\n",
    "### d. After encoding the nominal column in the previous step, find a method to append the encoded data to the dataset (2%). \n",
    "\n",
    "### e. Normalise the numerical columns of the dataset (1%)"
   ]
  },
  {
   "cell_type": "code",
   "execution_count": null,
   "id": "f34193e3",
   "metadata": {},
   "outputs": [],
   "source": []
  },
  {
   "cell_type": "markdown",
   "id": "4387a38a",
   "metadata": {},
   "source": [
    "# 2.4a\n",
    "## Encode the income column"
   ]
  },
  {
   "cell_type": "code",
   "execution_count": 20,
   "id": "1cf5cbf3",
   "metadata": {},
   "outputs": [],
   "source": [
    "adults2 = pd.read_csv('C:/Users/Uche Buzz/Desktop/School stuff/Data Mining and Infomatics/Dataset/adult.csv')"
   ]
  },
  {
   "cell_type": "code",
   "execution_count": 21,
   "id": "a03c192c",
   "metadata": {},
   "outputs": [],
   "source": [
    "############# WRITE YOUR CODE IN THIS CELL (IF APPLICABLE)####################\n",
    "#Inport the necessary paaackage\n",
    "\n",
    "from sklearn.preprocessing import LabelEncoder\n",
    "\n",
    "le = LabelEncoder()\n"
   ]
  },
  {
   "cell_type": "code",
   "execution_count": 22,
   "id": "71b52bdd",
   "metadata": {},
   "outputs": [
    {
     "name": "stdout",
     "output_type": "stream",
     "text": [
      "Requirement already satisfied: scikit-learn in c:\\python312\\lib\\site-packages (1.4.1.post1)Note: you may need to restart the kernel to use updated packages.\n"
     ]
    },
    {
     "name": "stderr",
     "output_type": "stream",
     "text": [
      "ERROR: Could not find a version that satisfies the requirement quiet (from versions: none)\n",
      "ERROR: No matching distribution found for quiet\n",
      "\n",
      "[notice] A new release of pip is available: 23.2.1 -> 24.0\n",
      "[notice] To update, run: python.exe -m pip install --upgrade pip\n"
     ]
    },
    {
     "name": "stdout",
     "output_type": "stream",
     "text": [
      "\n"
     ]
    }
   ],
   "source": [
    "#install the package scikit- learn\n",
    "pip install scikit-learn -- quiet \n"
   ]
  },
  {
   "cell_type": "code",
   "execution_count": 30,
   "id": "127257c8",
   "metadata": {},
   "outputs": [
    {
     "name": "stdout",
     "output_type": "stream",
     "text": [
      "<class 'pandas.core.frame.DataFrame'>\n",
      "RangeIndex: 48842 entries, 0 to 48841\n",
      "Data columns (total 15 columns):\n",
      " #   Column          Non-Null Count  Dtype \n",
      "---  ------          --------------  ----- \n",
      " 0   age             48842 non-null  int64 \n",
      " 1   workclass       47879 non-null  object\n",
      " 2   fnlwgt          48842 non-null  int64 \n",
      " 3   education       48842 non-null  object\n",
      " 4   education-num   48842 non-null  int64 \n",
      " 5   marital-status  48842 non-null  object\n",
      " 6   occupation      47876 non-null  object\n",
      " 7   relationship    48842 non-null  object\n",
      " 8   race            48842 non-null  object\n",
      " 9   sex             48842 non-null  object\n",
      " 10  capital-gain    48842 non-null  int64 \n",
      " 11  capital-loss    48842 non-null  int64 \n",
      " 12  hours-per-week  48842 non-null  int64 \n",
      " 13  native-country  48568 non-null  object\n",
      " 14  income          48842 non-null  object\n",
      "dtypes: int64(6), object(9)\n",
      "memory usage: 5.6+ MB\n"
     ]
    }
   ],
   "source": [
    "# This is to check the column number for income\n",
    "adults2.info()"
   ]
  },
  {
   "cell_type": "code",
   "execution_count": 31,
   "id": "8ff3ca68",
   "metadata": {},
   "outputs": [],
   "source": [
    "#X = adults2.drop('income',axis=1)\n",
    "y = adults2.iloc[:,14] # Select the income column\n"
   ]
  },
  {
   "cell_type": "code",
   "execution_count": 32,
   "id": "baa220f0",
   "metadata": {},
   "outputs": [
    {
     "data": {
      "text/plain": [
       "0         <=50K\n",
       "1         <=50K\n",
       "2         <=50K\n",
       "3         <=50K\n",
       "4         <=50K\n",
       "          ...  \n",
       "48837    <=50K.\n",
       "48838    <=50K.\n",
       "48839    <=50K.\n",
       "48840    <=50K.\n",
       "48841     >50K.\n",
       "Name: income, Length: 48842, dtype: object"
      ]
     },
     "execution_count": 32,
     "metadata": {},
     "output_type": "execute_result"
    }
   ],
   "source": [
    "y"
   ]
  },
  {
   "cell_type": "code",
   "execution_count": null,
   "id": "7ea661d1",
   "metadata": {},
   "outputs": [],
   "source": [
    "# fit transform the Income column\n",
    "y = le.fit_transform(y)"
   ]
  },
  {
   "cell_type": "code",
   "execution_count": null,
   "id": "3e5e1f0e",
   "metadata": {},
   "outputs": [
    {
     "data": {
      "text/plain": [
       "array([0, 0, 0, ..., 1, 1, 3])"
      ]
     },
     "execution_count": 36,
     "metadata": {},
     "output_type": "execute_result"
    }
   ],
   "source": [
    "#Print the result\n",
    "y"
   ]
  },
  {
   "cell_type": "code",
   "execution_count": null,
   "id": "6ad3d3e4",
   "metadata": {},
   "outputs": [],
   "source": []
  },
  {
   "cell_type": "markdown",
   "id": "ffdf425c",
   "metadata": {},
   "source": [
    "# 2.4 b\n",
    "## Select one ordinal column and encode it"
   ]
  },
  {
   "cell_type": "markdown",
   "id": "8af0a732",
   "metadata": {},
   "source": [
    "### For this task, I choose *sex* as an ordinal column to encode"
   ]
  },
  {
   "cell_type": "code",
   "execution_count": 34,
   "id": "b14c8838",
   "metadata": {},
   "outputs": [],
   "source": [
    "#Assign the column\n",
    "W = adults2.iloc[:,9]"
   ]
  },
  {
   "cell_type": "code",
   "execution_count": 35,
   "id": "9129fb5d",
   "metadata": {},
   "outputs": [
    {
     "data": {
      "text/plain": [
       "0          Male\n",
       "1          Male\n",
       "2          Male\n",
       "3          Male\n",
       "4        Female\n",
       "          ...  \n",
       "48837    Female\n",
       "48838      Male\n",
       "48839      Male\n",
       "48840      Male\n",
       "48841      Male\n",
       "Name: sex, Length: 48842, dtype: object"
      ]
     },
     "execution_count": 35,
     "metadata": {},
     "output_type": "execute_result"
    }
   ],
   "source": [
    "#View the column to be sure\n",
    "W"
   ]
  },
  {
   "cell_type": "code",
   "execution_count": null,
   "id": "edebc38b",
   "metadata": {},
   "outputs": [],
   "source": []
  },
  {
   "cell_type": "code",
   "execution_count": 36,
   "id": "e1e4a259",
   "metadata": {},
   "outputs": [],
   "source": [
    "#Call the function and fit \n",
    "W = le.fit_transform(W)"
   ]
  },
  {
   "cell_type": "code",
   "execution_count": 37,
   "id": "2d56821b",
   "metadata": {},
   "outputs": [
    {
     "data": {
      "text/plain": [
       "array([1, 1, 1, ..., 1, 1, 1])"
      ]
     },
     "execution_count": 37,
     "metadata": {},
     "output_type": "execute_result"
    }
   ],
   "source": [
    "#Print the new result\n",
    "W\n"
   ]
  },
  {
   "cell_type": "markdown",
   "id": "4a5ff8fd",
   "metadata": {},
   "source": [
    "# 2.4 c\n",
    "## Choose a norminal column and encode it\n",
    "### I choose **native-country**"
   ]
  },
  {
   "cell_type": "code",
   "execution_count": 39,
   "id": "76fa20cf",
   "metadata": {},
   "outputs": [],
   "source": [
    "#Import the ordinal encoder\n",
    "from sklearn.preprocessing import OrdinalEncoder\n",
    "nominal_column = adults2[['native-country']]\n",
    "\n",
    "# Initialize OrdinalEncoder\n",
    "oe = OrdinalEncoder()\n"
   ]
  },
  {
   "cell_type": "code",
   "execution_count": 41,
   "id": "55bea602",
   "metadata": {},
   "outputs": [
    {
     "data": {
      "text/html": [
       "<div>\n",
       "<style scoped>\n",
       "    .dataframe tbody tr th:only-of-type {\n",
       "        vertical-align: middle;\n",
       "    }\n",
       "\n",
       "    .dataframe tbody tr th {\n",
       "        vertical-align: top;\n",
       "    }\n",
       "\n",
       "    .dataframe thead th {\n",
       "        text-align: right;\n",
       "    }\n",
       "</style>\n",
       "<table border=\"1\" class=\"dataframe\">\n",
       "  <thead>\n",
       "    <tr style=\"text-align: right;\">\n",
       "      <th></th>\n",
       "      <th>native-country</th>\n",
       "    </tr>\n",
       "  </thead>\n",
       "  <tbody>\n",
       "    <tr>\n",
       "      <th>0</th>\n",
       "      <td>United-States</td>\n",
       "    </tr>\n",
       "    <tr>\n",
       "      <th>1</th>\n",
       "      <td>United-States</td>\n",
       "    </tr>\n",
       "    <tr>\n",
       "      <th>2</th>\n",
       "      <td>United-States</td>\n",
       "    </tr>\n",
       "    <tr>\n",
       "      <th>3</th>\n",
       "      <td>United-States</td>\n",
       "    </tr>\n",
       "    <tr>\n",
       "      <th>4</th>\n",
       "      <td>Cuba</td>\n",
       "    </tr>\n",
       "    <tr>\n",
       "      <th>...</th>\n",
       "      <td>...</td>\n",
       "    </tr>\n",
       "    <tr>\n",
       "      <th>48837</th>\n",
       "      <td>United-States</td>\n",
       "    </tr>\n",
       "    <tr>\n",
       "      <th>48838</th>\n",
       "      <td>United-States</td>\n",
       "    </tr>\n",
       "    <tr>\n",
       "      <th>48839</th>\n",
       "      <td>United-States</td>\n",
       "    </tr>\n",
       "    <tr>\n",
       "      <th>48840</th>\n",
       "      <td>United-States</td>\n",
       "    </tr>\n",
       "    <tr>\n",
       "      <th>48841</th>\n",
       "      <td>United-States</td>\n",
       "    </tr>\n",
       "  </tbody>\n",
       "</table>\n",
       "<p>48842 rows × 1 columns</p>\n",
       "</div>"
      ],
      "text/plain": [
       "      native-country\n",
       "0      United-States\n",
       "1      United-States\n",
       "2      United-States\n",
       "3      United-States\n",
       "4               Cuba\n",
       "...              ...\n",
       "48837  United-States\n",
       "48838  United-States\n",
       "48839  United-States\n",
       "48840  United-States\n",
       "48841  United-States\n",
       "\n",
       "[48842 rows x 1 columns]"
      ]
     },
     "execution_count": 41,
     "metadata": {},
     "output_type": "execute_result"
    }
   ],
   "source": [
    "nominal_column "
   ]
  },
  {
   "cell_type": "code",
   "execution_count": 40,
   "id": "673ca5ab",
   "metadata": {},
   "outputs": [],
   "source": [
    "# Fit and transform the column\n",
    "encoded_nominal_column = oe.fit_transform(nominal_column)\n"
   ]
  },
  {
   "cell_type": "code",
   "execution_count": 42,
   "id": "7e3114eb",
   "metadata": {},
   "outputs": [
    {
     "data": {
      "text/plain": [
       "array([[39.],\n",
       "       [39.],\n",
       "       [39.],\n",
       "       ...,\n",
       "       [39.],\n",
       "       [39.],\n",
       "       [39.]])"
      ]
     },
     "execution_count": 42,
     "metadata": {},
     "output_type": "execute_result"
    }
   ],
   "source": [
    "#Print the result\n",
    "encoded_nominal_column"
   ]
  },
  {
   "cell_type": "markdown",
   "id": "2635ee26",
   "metadata": {},
   "source": [
    "# 2.4 d\n",
    "### Append it to the dataset"
   ]
  },
  {
   "cell_type": "code",
   "execution_count": 44,
   "id": "8d81120a",
   "metadata": {},
   "outputs": [],
   "source": [
    "# Replace the original column with the encoded column\n",
    "adults2['native-country_encoded'] = encoded_nominal_column"
   ]
  },
  {
   "cell_type": "code",
   "execution_count": 45,
   "id": "10287100",
   "metadata": {},
   "outputs": [],
   "source": [
    "#Drop the original one\n",
    "adults2.drop('native-country', axis=1, inplace=True)\n"
   ]
  },
  {
   "cell_type": "code",
   "execution_count": 47,
   "id": "ae29f791",
   "metadata": {},
   "outputs": [
    {
     "name": "stdout",
     "output_type": "stream",
     "text": [
      "<class 'pandas.core.frame.DataFrame'>\n",
      "RangeIndex: 48842 entries, 0 to 48841\n",
      "Data columns (total 15 columns):\n",
      " #   Column                  Non-Null Count  Dtype  \n",
      "---  ------                  --------------  -----  \n",
      " 0   age                     48842 non-null  int64  \n",
      " 1   workclass               47879 non-null  object \n",
      " 2   fnlwgt                  48842 non-null  int64  \n",
      " 3   education               48842 non-null  object \n",
      " 4   education-num           48842 non-null  int64  \n",
      " 5   marital-status          48842 non-null  object \n",
      " 6   occupation              47876 non-null  object \n",
      " 7   relationship            48842 non-null  object \n",
      " 8   race                    48842 non-null  object \n",
      " 9   sex                     48842 non-null  object \n",
      " 10  capital-gain            48842 non-null  int64  \n",
      " 11  capital-loss            48842 non-null  int64  \n",
      " 12  hours-per-week          48842 non-null  int64  \n",
      " 13  income                  48842 non-null  object \n",
      " 14  native-country_encoded  48568 non-null  float64\n",
      "dtypes: float64(1), int64(6), object(8)\n",
      "memory usage: 5.6+ MB\n"
     ]
    }
   ],
   "source": [
    "adults2.info()"
   ]
  },
  {
   "cell_type": "markdown",
   "id": "8afbae9a",
   "metadata": {},
   "source": [
    "# 2.4 e\n",
    "### Normalize the numerical data"
   ]
  },
  {
   "cell_type": "code",
   "execution_count": 48,
   "id": "d305e045",
   "metadata": {},
   "outputs": [],
   "source": [
    "#Import the important package\n",
    "from sklearn.preprocessing import MinMaxScaler\n"
   ]
  },
  {
   "cell_type": "code",
   "execution_count": 49,
   "id": "c5657626",
   "metadata": {},
   "outputs": [],
   "source": [
    " #Select numerical columns\n",
    "numerical_columns = ['age', 'fnlwgt', 'education-num', 'capital-gain', 'capital-loss', 'hours-per-week']\n",
    "\n",
    "# Initialize MinMaxScaler\n",
    "scaler = MinMaxScaler()"
   ]
  },
  {
   "cell_type": "code",
   "execution_count": 50,
   "id": "c9c87d66",
   "metadata": {},
   "outputs": [],
   "source": [
    "# Apply Min-Max Scaling to numerical columns\n",
    "adults2[numerical_columns] = scaler.fit_transform(adults2[numerical_columns])"
   ]
  },
  {
   "cell_type": "code",
   "execution_count": null,
   "id": "1e7bfc79",
   "metadata": {},
   "outputs": [],
   "source": []
  },
  {
   "cell_type": "code",
   "execution_count": 53,
   "id": "21a5364a",
   "metadata": {},
   "outputs": [
    {
     "data": {
      "text/html": [
       "<div>\n",
       "<style scoped>\n",
       "    .dataframe tbody tr th:only-of-type {\n",
       "        vertical-align: middle;\n",
       "    }\n",
       "\n",
       "    .dataframe tbody tr th {\n",
       "        vertical-align: top;\n",
       "    }\n",
       "\n",
       "    .dataframe thead th {\n",
       "        text-align: right;\n",
       "    }\n",
       "</style>\n",
       "<table border=\"1\" class=\"dataframe\">\n",
       "  <thead>\n",
       "    <tr style=\"text-align: right;\">\n",
       "      <th></th>\n",
       "      <th>age</th>\n",
       "      <th>workclass</th>\n",
       "      <th>fnlwgt</th>\n",
       "      <th>education</th>\n",
       "      <th>education-num</th>\n",
       "      <th>marital-status</th>\n",
       "      <th>occupation</th>\n",
       "      <th>relationship</th>\n",
       "      <th>race</th>\n",
       "      <th>sex</th>\n",
       "      <th>capital-gain</th>\n",
       "      <th>capital-loss</th>\n",
       "      <th>hours-per-week</th>\n",
       "      <th>income</th>\n",
       "      <th>native-country_encoded</th>\n",
       "    </tr>\n",
       "  </thead>\n",
       "  <tbody>\n",
       "    <tr>\n",
       "      <th>0</th>\n",
       "      <td>0.301370</td>\n",
       "      <td>State-gov</td>\n",
       "      <td>0.044131</td>\n",
       "      <td>Bachelors</td>\n",
       "      <td>0.800000</td>\n",
       "      <td>Never-married</td>\n",
       "      <td>Adm-clerical</td>\n",
       "      <td>Not-in-family</td>\n",
       "      <td>White</td>\n",
       "      <td>Male</td>\n",
       "      <td>0.02174</td>\n",
       "      <td>0.0</td>\n",
       "      <td>0.397959</td>\n",
       "      <td>&lt;=50K</td>\n",
       "      <td>39.0</td>\n",
       "    </tr>\n",
       "    <tr>\n",
       "      <th>1</th>\n",
       "      <td>0.452055</td>\n",
       "      <td>Self-emp-not-inc</td>\n",
       "      <td>0.048052</td>\n",
       "      <td>Bachelors</td>\n",
       "      <td>0.800000</td>\n",
       "      <td>Married-civ-spouse</td>\n",
       "      <td>Exec-managerial</td>\n",
       "      <td>Husband</td>\n",
       "      <td>White</td>\n",
       "      <td>Male</td>\n",
       "      <td>0.00000</td>\n",
       "      <td>0.0</td>\n",
       "      <td>0.122449</td>\n",
       "      <td>&lt;=50K</td>\n",
       "      <td>39.0</td>\n",
       "    </tr>\n",
       "    <tr>\n",
       "      <th>2</th>\n",
       "      <td>0.287671</td>\n",
       "      <td>Private</td>\n",
       "      <td>0.137581</td>\n",
       "      <td>HS-grad</td>\n",
       "      <td>0.533333</td>\n",
       "      <td>Divorced</td>\n",
       "      <td>Handlers-cleaners</td>\n",
       "      <td>Not-in-family</td>\n",
       "      <td>White</td>\n",
       "      <td>Male</td>\n",
       "      <td>0.00000</td>\n",
       "      <td>0.0</td>\n",
       "      <td>0.397959</td>\n",
       "      <td>&lt;=50K</td>\n",
       "      <td>39.0</td>\n",
       "    </tr>\n",
       "    <tr>\n",
       "      <th>3</th>\n",
       "      <td>0.493151</td>\n",
       "      <td>Private</td>\n",
       "      <td>0.150486</td>\n",
       "      <td>11th</td>\n",
       "      <td>0.400000</td>\n",
       "      <td>Married-civ-spouse</td>\n",
       "      <td>Handlers-cleaners</td>\n",
       "      <td>Husband</td>\n",
       "      <td>Black</td>\n",
       "      <td>Male</td>\n",
       "      <td>0.00000</td>\n",
       "      <td>0.0</td>\n",
       "      <td>0.397959</td>\n",
       "      <td>&lt;=50K</td>\n",
       "      <td>39.0</td>\n",
       "    </tr>\n",
       "    <tr>\n",
       "      <th>4</th>\n",
       "      <td>0.150685</td>\n",
       "      <td>Private</td>\n",
       "      <td>0.220635</td>\n",
       "      <td>Bachelors</td>\n",
       "      <td>0.800000</td>\n",
       "      <td>Married-civ-spouse</td>\n",
       "      <td>Prof-specialty</td>\n",
       "      <td>Wife</td>\n",
       "      <td>Black</td>\n",
       "      <td>Female</td>\n",
       "      <td>0.00000</td>\n",
       "      <td>0.0</td>\n",
       "      <td>0.397959</td>\n",
       "      <td>&lt;=50K</td>\n",
       "      <td>5.0</td>\n",
       "    </tr>\n",
       "  </tbody>\n",
       "</table>\n",
       "</div>"
      ],
      "text/plain": [
       "        age         workclass    fnlwgt  education  education-num  \\\n",
       "0  0.301370         State-gov  0.044131  Bachelors       0.800000   \n",
       "1  0.452055  Self-emp-not-inc  0.048052  Bachelors       0.800000   \n",
       "2  0.287671           Private  0.137581    HS-grad       0.533333   \n",
       "3  0.493151           Private  0.150486       11th       0.400000   \n",
       "4  0.150685           Private  0.220635  Bachelors       0.800000   \n",
       "\n",
       "       marital-status         occupation   relationship   race     sex  \\\n",
       "0       Never-married       Adm-clerical  Not-in-family  White    Male   \n",
       "1  Married-civ-spouse    Exec-managerial        Husband  White    Male   \n",
       "2            Divorced  Handlers-cleaners  Not-in-family  White    Male   \n",
       "3  Married-civ-spouse  Handlers-cleaners        Husband  Black    Male   \n",
       "4  Married-civ-spouse     Prof-specialty           Wife  Black  Female   \n",
       "\n",
       "   capital-gain  capital-loss  hours-per-week income  native-country_encoded  \n",
       "0       0.02174           0.0        0.397959  <=50K                    39.0  \n",
       "1       0.00000           0.0        0.122449  <=50K                    39.0  \n",
       "2       0.00000           0.0        0.397959  <=50K                    39.0  \n",
       "3       0.00000           0.0        0.397959  <=50K                    39.0  \n",
       "4       0.00000           0.0        0.397959  <=50K                     5.0  "
      ]
     },
     "execution_count": 53,
     "metadata": {},
     "output_type": "execute_result"
    }
   ],
   "source": [
    "adults2.head()"
   ]
  },
  {
   "cell_type": "raw",
   "id": "ffcf6cb7-19bb-40b0-ac11-ba2a6de45142",
   "metadata": {},
   "source": [
    "############# WRITE YOUR REPORT IN THIS CELL (IF APPLICABLE)####################\n",
    "\n",
    "\n"
   ]
  }
 ],
 "metadata": {
  "kernelspec": {
   "display_name": "Python 3 (ipykernel)",
   "language": "python",
   "name": "python3"
  },
  "language_info": {
   "codemirror_mode": {
    "name": "ipython",
    "version": 3
   },
   "file_extension": ".py",
   "mimetype": "text/x-python",
   "name": "python",
   "nbconvert_exporter": "python",
   "pygments_lexer": "ipython3",
   "version": "3.12.1"
  }
 },
 "nbformat": 4,
 "nbformat_minor": 5
}
